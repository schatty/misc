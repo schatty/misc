{
 "cells": [
  {
   "cell_type": "markdown",
   "metadata": {},
   "source": [
    "Notebook for exploration splits for omniglot dataset from Vinyals paper"
   ]
  },
  {
   "cell_type": "code",
   "execution_count": 28,
   "metadata": {},
   "outputs": [],
   "source": [
    "import numpy as np\n",
    "import pandas as pd\n",
    "from glob import glob"
   ]
  },
  {
   "cell_type": "markdown",
   "metadata": {},
   "source": [
    "__Train__"
   ]
  },
  {
   "cell_type": "code",
   "execution_count": 12,
   "metadata": {},
   "outputs": [],
   "source": [
    "with open('/home/igor/dl/matching-networks-tf/data/omniglot/splits/vinyals/train.txt', 'r') as f:\n",
    "    data = f.readlines()\n",
    "train = []\n",
    "for line in data:\n",
    "    train.append(line.strip().split('/'))\n",
    "train_alphabets = set([sample[0] for sample in train])"
   ]
  },
  {
   "cell_type": "markdown",
   "metadata": {},
   "source": [
    "__Validation__"
   ]
  },
  {
   "cell_type": "code",
   "execution_count": 14,
   "metadata": {},
   "outputs": [],
   "source": [
    "with open('/home/igor/dl/matching-networks-tf/data/omniglot/splits/vinyals/val.txt', 'r') as f:\n",
    "    data = f.readlines()\n",
    "val = []\n",
    "for line in data:\n",
    "    val.append(line.strip().split('/'))\n",
    "val_alphabets = set([sample[0] for sample in val])"
   ]
  },
  {
   "cell_type": "markdown",
   "metadata": {},
   "source": [
    "__Test__"
   ]
  },
  {
   "cell_type": "code",
   "execution_count": 15,
   "metadata": {},
   "outputs": [],
   "source": [
    "with open('/home/igor/dl/matching-networks-tf/data/omniglot/splits/vinyals/test.txt', 'r') as f:\n",
    "    data = f.readlines()\n",
    "test = []\n",
    "for line in data:\n",
    "    test.append(line.strip().split('/'))\n",
    "test_alphabets = set([sample[0] for sample in test])"
   ]
  },
  {
   "cell_type": "markdown",
   "metadata": {},
   "source": [
    "__Trainval__"
   ]
  },
  {
   "cell_type": "code",
   "execution_count": 23,
   "metadata": {},
   "outputs": [],
   "source": [
    "with open('/home/igor/dl/matching-networks-tf/data/omniglot/splits/vinyals/trainval.txt', 'r') as f:\n",
    "    data = f.readlines()\n",
    "trainval = []\n",
    "for line in data:\n",
    "    trainval.append(line.strip().split('/'))\n",
    "trainval_alphabets = set([sample[0] for sample in trainval])"
   ]
  },
  {
   "cell_type": "code",
   "execution_count": 24,
   "metadata": {},
   "outputs": [
    {
     "name": "stdout",
     "output_type": "stream",
     "text": [
      "Train:  33\n",
      "Val:  5\n",
      "Test:  13\n",
      "Trainval:  38\n"
     ]
    }
   ],
   "source": [
    "print(\"Train: \", len(train_alphabets))\n",
    "print(\"Val: \", len(val_alphabets))\n",
    "print(\"Test: \", len(test_alphabets))\n",
    "print(\"Trainval: \", len(trainval_alphabets))"
   ]
  },
  {
   "cell_type": "code",
   "execution_count": 18,
   "metadata": {},
   "outputs": [
    {
     "data": {
      "text/plain": [
       "set()"
      ]
     },
     "execution_count": 18,
     "metadata": {},
     "output_type": "execute_result"
    }
   ],
   "source": [
    "train_alphabets & val_alphabets"
   ]
  },
  {
   "cell_type": "code",
   "execution_count": 19,
   "metadata": {},
   "outputs": [
    {
     "data": {
      "text/plain": [
       "{'Gurmukhi'}"
      ]
     },
     "execution_count": 19,
     "metadata": {},
     "output_type": "execute_result"
    }
   ],
   "source": [
    "train_alphabets & test_alphabets"
   ]
  },
  {
   "cell_type": "code",
   "execution_count": 21,
   "metadata": {},
   "outputs": [
    {
     "data": {
      "text/plain": [
       "set()"
      ]
     },
     "execution_count": 21,
     "metadata": {},
     "output_type": "execute_result"
    }
   ],
   "source": [
    "test_alphabets & val_alphabets"
   ]
  },
  {
   "cell_type": "code",
   "execution_count": 22,
   "metadata": {},
   "outputs": [
    {
     "data": {
      "text/plain": [
       "set()"
      ]
     },
     "execution_count": 22,
     "metadata": {},
     "output_type": "execute_result"
    }
   ],
   "source": [
    "val_alphabets & test_alphabets"
   ]
  },
  {
   "cell_type": "code",
   "execution_count": 47,
   "metadata": {},
   "outputs": [
    {
     "data": {
      "text/plain": [
       "{'Gurmukhi',\n",
       " 'Kannada',\n",
       " 'Keble',\n",
       " 'Malayalam',\n",
       " 'Manipuri',\n",
       " 'Mongolian',\n",
       " 'Old_Church_Slavonic_(Cyrillic)',\n",
       " 'Oriya',\n",
       " 'Sylheti',\n",
       " 'Syriac_(Serto)',\n",
       " 'Tengwar',\n",
       " 'Tibetan',\n",
       " 'ULOG'}"
      ]
     },
     "execution_count": 47,
     "metadata": {},
     "output_type": "execute_result"
    }
   ],
   "source": [
    "test_alphabets"
   ]
  },
  {
   "cell_type": "markdown",
   "metadata": {},
   "source": [
    "### Vinyals omniglot"
   ]
  },
  {
   "cell_type": "code",
   "execution_count": 26,
   "metadata": {},
   "outputs": [],
   "source": [
    "omni_vinyals = {}\n",
    "for sample in trainval:\n",
    "    alphabet, character, _ = sample\n",
    "    if alphabet not in omni_vinyals:\n",
    "        omni_vinyals[alphabet] = []\n",
    "    if character not in omni_vinyals[alphabet]:\n",
    "        omni_vinyals[alphabet].append(character)"
   ]
  },
  {
   "cell_type": "code",
   "execution_count": null,
   "metadata": {},
   "outputs": [],
   "source": []
  },
  {
   "cell_type": "markdown",
   "metadata": {},
   "source": [
    "### Original Omniglot"
   ]
  },
  {
   "cell_type": "code",
   "execution_count": 29,
   "metadata": {},
   "outputs": [],
   "source": [
    "files = glob(\"/home/igor/dl/data/omniglot/data/*/*\")"
   ]
  },
  {
   "cell_type": "code",
   "execution_count": 34,
   "metadata": {},
   "outputs": [],
   "source": [
    "omni_lake = {}\n",
    "for sample in files:\n",
    "    path_short = sample[sample.rfind('/data/')+6:]\n",
    "    alphabet, character = path_short.split('/')\n",
    "    if alphabet not in omni_lake:\n",
    "        omni_lake[alphabet] = []\n",
    "    if character not in omni_lake[alphabet]:\n",
    "        omni_lake[alphabet].append(character)"
   ]
  },
  {
   "cell_type": "code",
   "execution_count": 38,
   "metadata": {},
   "outputs": [
    {
     "name": "stdout",
     "output_type": "stream",
     "text": [
      "Lake:  50\n",
      "Vynals:  38\n"
     ]
    }
   ],
   "source": [
    "print(\"Lake: \", len(omni_lake))\n",
    "print(\"Vynals: \", len(omni_vinyals))"
   ]
  },
  {
   "cell_type": "code",
   "execution_count": 42,
   "metadata": {},
   "outputs": [
    {
     "name": "stdout",
     "output_type": "stream",
     "text": [
      "Alphabet Angelic: Lake 20 Vinyals 20\n",
      "Alphabet Grantha: Lake 43 Vinyals 43\n",
      "Alphabet N_Ko: Lake 33 Vinyals 33\n",
      "Alphabet Aurek-Besh: Lake 26 Vinyals 26\n",
      "Alphabet Japanese_(hiragana): Lake 52 Vinyals 52\n",
      "Alphabet Malay_(Jawi_-_Arabic): Lake 40 Vinyals 40\n",
      "Alphabet Asomtavruli_(Georgian): Lake 40 Vinyals 40\n",
      "Alphabet Sanskrit: Lake 42 Vinyals 42\n",
      "Alphabet Ojibwe_(Canadian_Aboriginal_Syllabics): Lake 14 Vinyals 14\n",
      "Alphabet Korean: Lake 40 Vinyals 40\n",
      "Alphabet Arcadian: Lake 26 Vinyals 26\n",
      "Alphabet Greek: Lake 24 Vinyals 24\n",
      "Alphabet Alphabet_of_the_Magi: Lake 20 Vinyals 20\n",
      "Alphabet Blackfoot_(Canadian_Aboriginal_Syllabics): Lake 14 Vinyals 14\n",
      "Alphabet Futurama: Lake 26 Vinyals 26\n",
      "ATTENTION: \n",
      "Alphabet Gurmukhi: Lake 45 Vinyals 41\n",
      "Alphabet Tagalog: Lake 17 Vinyals 17\n",
      "Alphabet Anglo-Saxon_Futhorc: Lake 29 Vinyals 29\n",
      "Alphabet Braille: Lake 26 Vinyals 26\n",
      "Alphabet Cyrillic: Lake 33 Vinyals 33\n",
      "Alphabet Burmese_(Myanmar): Lake 34 Vinyals 34\n",
      "Alphabet Avesta: Lake 26 Vinyals 26\n",
      "Alphabet Gujarati: Lake 48 Vinyals 48\n",
      "Alphabet Ge_ez: Lake 26 Vinyals 26\n",
      "Alphabet Syriac_(Estrangelo): Lake 23 Vinyals 23\n",
      "Alphabet Atlantean: Lake 26 Vinyals 26\n",
      "Alphabet Japanese_(katakana): Lake 47 Vinyals 47\n",
      "Alphabet Balinese: Lake 24 Vinyals 24\n",
      "Alphabet Atemayar_Qelisayer: Lake 26 Vinyals 26\n",
      "Alphabet Glagolitic: Lake 45 Vinyals 45\n",
      "Alphabet Tifinagh: Lake 55 Vinyals 55\n",
      "Alphabet Latin: Lake 26 Vinyals 26\n",
      "Alphabet Inuktitut_(Canadian_Aboriginal_Syllabics): Lake 16 Vinyals 16\n",
      "Alphabet Hebrew: Lake 22 Vinyals 22\n",
      "Alphabet Mkhedruli_(Georgian): Lake 41 Vinyals 41\n",
      "Alphabet Armenian: Lake 41 Vinyals 41\n",
      "Alphabet Early_Aramaic: Lake 22 Vinyals 22\n",
      "Alphabet Bengali: Lake 46 Vinyals 46\n"
     ]
    }
   ],
   "source": [
    "for al in omni_vinyals:\n",
    "    n_lake = len(omni_lake[al])\n",
    "    n_vin = len(omni_vinyals[al])\n",
    "    if n_lake != n_vin:\n",
    "        print(\"ATTENTION: \",)\n",
    "    print(f\"Alphabet {al}: Lake {n_lake} Vinyals {n_vin}\")"
   ]
  },
  {
   "cell_type": "code",
   "execution_count": null,
   "metadata": {},
   "outputs": [],
   "source": []
  }
 ],
 "metadata": {
  "kernelspec": {
   "display_name": "Python 3",
   "language": "python",
   "name": "python3"
  },
  "language_info": {
   "codemirror_mode": {
    "name": "ipython",
    "version": 3
   },
   "file_extension": ".py",
   "mimetype": "text/x-python",
   "name": "python",
   "nbconvert_exporter": "python",
   "pygments_lexer": "ipython3",
   "version": "3.7.3"
  }
 },
 "nbformat": 4,
 "nbformat_minor": 2
}
