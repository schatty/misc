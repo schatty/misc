{
 "cells": [
  {
   "cell_type": "markdown",
   "metadata": {},
   "source": [
    "## Metrics for imbalanced datasets"
   ]
  },
  {
   "cell_type": "code",
   "execution_count": 1,
   "metadata": {},
   "outputs": [],
   "source": [
    "import random\n",
    "import numpy as np\n",
    "import pandas as pd\n",
    "import matplotlib.pyplot as plt\n",
    "%matplotlib inline\n",
    "from sklearn import metrics\n",
    "from sklearn.datasets import fetch_mldata\n",
    "from sklearn.ensemble import RandomForestClassifier\n",
    "from sklearn.linear_model import LogisticRegression\n",
    "from sklearn.utils import shuffle \n",
    "import scikitplot as skplt\n",
    "import seaborn as sns\n",
    "sns.set_style('whitegrid')\n",
    "\n",
    "# PyTorch for logistic regression\n",
    "import torch \n",
    "import torch.nn as nn"
   ]
  },
  {
   "cell_type": "code",
   "execution_count": 2,
   "metadata": {},
   "outputs": [],
   "source": [
    "def get_inbalance_data(mnist, neg_class=0, pos_class=6, pos_rate=0.05):\n",
    "    n_train = int(60e3)\n",
    "    n_test = int(10e3)\n",
    "    indices = np.arange(len(mnist.data))\n",
    "    train_idx = np.arange(0, n_train)\n",
    "    test_idx = np.arange(n_train+1, n_train+n_test)\n",
    "\n",
    "    x_train, y_train = mnist.data[train_idx], mnist.target[train_idx]\n",
    "    x_test, y_test = mnist.data[test_idx], mnist.target[test_idx]\n",
    "\n",
    "    zero_indices_train = np.argwhere(y_train == neg_class).flatten()\n",
    "    ones_indices_train = np.argwhere(y_train == pos_class).flatten()\n",
    "    ones_indices_train = ones_indices_train[:int(len(ones_indices_train) * pos_rate)]\n",
    "\n",
    "    zero_indices_test = np.argwhere(y_test == neg_class).flatten()\n",
    "    ones_indices_test = np.argwhere(y_test == pos_class).flatten()\n",
    "    ones_indices_test = ones_indices_test[:int(len(ones_indices_test) * pos_rate)]\n",
    "\n",
    "    print(\"Train: \", len(zero_indices_train), len(ones_indices_train))\n",
    "    print(\"Test: \", len(zero_indices_test), len(ones_indices_test))\n",
    "\n",
    "    # Select only \"0\" and \"1\" classes\n",
    "    x_train = x_train[np.hstack([ones_indices_train, zero_indices_train])]\n",
    "    y_train = y_train[np.hstack([ones_indices_train, zero_indices_train])]\n",
    "    x_test = x_test[np.hstack([ones_indices_test, zero_indices_test])]\n",
    "    y_test = y_test[np.hstack([ones_indices_test, zero_indices_test])]\n",
    "\n",
    "    y_train[y_train == neg_class] = 0\n",
    "    y_train[y_train == pos_class] = 1\n",
    "    y_test[y_test == neg_class] = 0\n",
    "    y_test[y_test == pos_class] = 1\n",
    "    \n",
    "    return (x_train, y_train), (x_test, y_test)"
   ]
  },
  {
   "cell_type": "code",
   "execution_count": 3,
   "metadata": {},
   "outputs": [],
   "source": [
    "def show_metrics(y_true, y_score):\n",
    "    # True positive\n",
    "    tp = np.sum(y_true * y_score)\n",
    "    # False positive\n",
    "    fp = np.sum((y_true == 0) * y_score)\n",
    "    # True negative\n",
    "    tn = np.sum((y_true==0) * (y_score==0))\n",
    "    # False negative\n",
    "    fn = np.sum(y_true * (y_score==0))\n",
    "\n",
    "    # True positive rate (sensitivity or recall)\n",
    "    tpr = tp / (tp + fn)\n",
    "    # False positive rate (fall-out)\n",
    "    fpr = fp / (fp + tn)\n",
    "    # Precision\n",
    "    precision = tp / (tp + fp)\n",
    "    # True negatvie tate (specificity)\n",
    "    tnr = 1 - fpr\n",
    "    # F1 score\n",
    "    f1 = 2*tp / (2*tp + fp + fn)\n",
    "    # ROC-AUC for binary classification\n",
    "    auc = (tpr+tnr) / 2\n",
    "    # MCC\n",
    "    mcc = (tp * tn - fp * fn) / np.sqrt((tp + fp) * (tp + fn) * (tn + fp) * (tn + fn))\n",
    "\n",
    "    print(\"True positive: \", tp)\n",
    "    print(\"False positive: \", fp)\n",
    "    print(\"True negative: \", tn)\n",
    "    print(\"False negative: \", fn)\n",
    "\n",
    "    print(\"True positive rate (recall): \", tpr)\n",
    "    print(\"False positive rate: \", fpr)\n",
    "    print(\"Precision: \", precision)\n",
    "    print(\"True negative rate: \", tnr)\n",
    "    print(\"F1: \", f1)\n",
    "    print(\"ROC-AUC: \", auc)\n",
    "    print(\"MCC: \", mcc)\n",
    "\n",
    "    \n",
    "def show_metrics_sklearn(y_true, y_pred):\n",
    "    print(\"Precision: \", metrics.precision_score(y_true, y_pred))\n",
    "    print(\"Recall: \", metrics.recall_score(y_true, y_pred))\n",
    "    print(\"F1 score: \", metrics.f1_score(y_true, y_pred))\n",
    "    print(\"Mean accuracy: \", metrics.accuracy_score(y_true, y_pred))\n",
    "    print(\"AUC: \", metrics.roc_auc_score(y_true, y_pred))\n",
    "    print(\"mcc: \", metrics.matthews_corrcoef(y_true, y_pred))"
   ]
  },
  {
   "cell_type": "code",
   "execution_count": 4,
   "metadata": {},
   "outputs": [],
   "source": [
    "def roc_auc_score(y_true, y_pred):\n",
    "    unique_vals = list(np.sort(np.unique(y_pred))) + [1]\n",
    "    area_under_curve = 0\n",
    "    fpr_points, tpr_points = [], []\n",
    "    for i, th in enumerate(unique_vals):\n",
    "        y_pred_th = np.zeros(len(y_pred))\n",
    "        y_pred_th[y_pred >= th] = 1.0\n",
    "        \n",
    "        tp = np.sum(y_true * y_pred_th)\n",
    "        fp = np.sum((y_true == 0) * y_pred_th)\n",
    "        tn = np.sum((y_true==0) * (y_pred_th==0))\n",
    "        fn = np.sum(y_true * (y_pred_th==0))\n",
    "        tpr = tp / (tp + fn)\n",
    "        fpr = fp / (fp + tn)\n",
    "        fpr_points.append(fpr)\n",
    "        tpr_points.append(tpr)\n",
    "        \n",
    "        if i > 0:\n",
    "            area_under_curve += (fpr_prev - fpr) * tpr\n",
    "        fpr_prev = fpr\n",
    "        \n",
    "    plt.figure(figsize=(5, 5), dpi=100)\n",
    "    plt.xlabel(\"False Positive Rate\")\n",
    "    plt.ylabel(\"True Positive Rate\")\n",
    "    sns.lineplot(fpr_points, tpr_points)\n",
    "    plt.show()\n",
    "        \n",
    "    return area_under_curve"
   ]
  },
  {
   "cell_type": "markdown",
   "metadata": {},
   "source": [
    "### Logistic regression"
   ]
  },
  {
   "cell_type": "code",
   "execution_count": 5,
   "metadata": {},
   "outputs": [],
   "source": [
    "class LogReg(nn.Module):\n",
    "    def __init__(self, in_dim):\n",
    "        super(LogReg, self).__init__()\n",
    "        self.linear = nn.Linear(in_dim, 1)\n",
    "        self.sigmoid = nn.Sigmoid()\n",
    "    \n",
    "    def forward(self, x):\n",
    "        y_pred = self.sigmoid(self.linear(x))\n",
    "        return y_pred\n",
    "\n",
    "    \n",
    "def DataLoader(x, y, batch_size, shuffle=True):\n",
    "    def wrap():\n",
    "        inds = np.arange(n)\n",
    "        if shuffle:\n",
    "            np.random.shuffle(inds)\n",
    "        for bi in range(n//batch_size):\n",
    "            batch_x = x[inds[bi*batch_size:(bi+1)*batch_size]]\n",
    "            batch_y = y[inds[bi*batch_size:(bi+1)*batch_size]]\n",
    "            yield (batch_x, batch_y)\n",
    "\n",
    "    n = len(x)\n",
    "    return wrap()"
   ]
  },
  {
   "cell_type": "code",
   "execution_count": 6,
   "metadata": {},
   "outputs": [
    {
     "name": "stdout",
     "output_type": "stream",
     "text": [
      "Train:  5923 1775\n",
      "Test:  979 287\n",
      "Epoch 1, Step 51, Loss: 0.5266\n",
      "Epoch 1, Step 101, Loss: 0.5140\n",
      "Epoch 1, Step 151, Loss: 0.4788\n",
      "Epoch 1, Step 201, Loss: 0.5007\n",
      "Accuracy of the network on the test images: 77 %\n"
     ]
    },
    {
     "name": "stderr",
     "output_type": "stream",
     "text": [
      "/home/igor/miniconda3/envs/pt/lib/python3.7/site-packages/sklearn/utils/deprecation.py:77: DeprecationWarning: Function fetch_mldata is deprecated; fetch_mldata was deprecated in version 0.20 and will be removed in version 0.22\n",
      "  warnings.warn(msg, category=DeprecationWarning)\n",
      "/home/igor/miniconda3/envs/pt/lib/python3.7/site-packages/sklearn/utils/deprecation.py:77: DeprecationWarning: Function mldata_filename is deprecated; mldata_filename was deprecated in version 0.20 and will be removed in version 0.22\n",
      "  warnings.warn(msg, category=DeprecationWarning)\n",
      "/home/igor/miniconda3/envs/pt/lib/python3.7/site-packages/torch/nn/functional.py:2016: UserWarning: Using a target size (torch.Size([32])) that is different to the input size (torch.Size([32, 1])) is deprecated. Please ensure they have the same size.\n",
      "  \"Please ensure they have the same size.\".format(target.size(), input.size()))\n"
     ]
    }
   ],
   "source": [
    "input_size = 784\n",
    "num_classes = 2\n",
    "num_epochs = 1\n",
    "batch_size = 32\n",
    "learning_rate = 1e-3\n",
    "\n",
    "mnist = fetch_mldata('MNIST original', data_home='~/dl/data/')\n",
    "(x_train, y_train), (x_test, y_test) = get_inbalance_data(mnist, pos_rate=0.3)\n",
    "# Data scaling\n",
    "x_train = 1 - (x_train / 255.)\n",
    "x_test = 1 - (x_test / 255.)\n",
    "\n",
    "model = LogReg(784)\n",
    "\n",
    "# Loss and optimizer\n",
    "criterion = nn.BCELoss()\n",
    "optimizer = torch.optim.SGD(model.parameters(), lr=learning_rate)\n",
    "    \n",
    "# Train\n",
    "for epoch in range(num_epochs):\n",
    "    batch_i = 0\n",
    "    train_loader = DataLoader(x_train, y_train, 32)\n",
    "    for x, y in train_loader:\n",
    "        batch_i += 1\n",
    "        x = torch.tensor(x, dtype=torch.float32)\n",
    "        y = torch.tensor(y, dtype=torch.float32)\n",
    "        \n",
    "        # Forward pass\n",
    "        outputs = model(x)\n",
    "        loss = criterion(outputs, y)\n",
    "\n",
    "        # Backward and optimize\n",
    "        optimizer.zero_grad()\n",
    "        loss.backward()\n",
    "        optimizer.step()\n",
    "\n",
    "        if batch_i % 50 == 0:\n",
    "            print('Epoch {}, Step {}, Loss: {:.4f}'.format(epoch+1, batch_i+1, loss.item()))\n",
    "\n",
    "            \n",
    "# Validate\n",
    "test_loader = DataLoader(x_test ,y_test, len(x_test), shuffle=False)\n",
    "with torch.no_grad():\n",
    "    correct = 0\n",
    "    total = 0\n",
    "    for x, y in test_loader:\n",
    "        x = torch.tensor(x, dtype=torch.float32)\n",
    "        y = torch.tensor(y, dtype=torch.float32)\n",
    "        \n",
    "        outputs = model(x)\n",
    "        predicted = (outputs >= 0.5).float().squeeze()\n",
    "        total += y.size(0)\n",
    "        correct += torch.eq(predicted, y).sum()\n",
    "\n",
    "    print('Accuracy of the network on the test images: {} %'.format(100 * correct / total))"
   ]
  },
  {
   "cell_type": "code",
   "execution_count": 7,
   "metadata": {},
   "outputs": [
    {
     "name": "stdout",
     "output_type": "stream",
     "text": [
      "Precision:  1.0\n",
      "Recall:  0.017421602787456445\n",
      "F1 score:  0.03424657534246575\n",
      "Mean accuracy:  0.7772511848341233\n",
      "AUC:  0.5087108013937283\n",
      "mcc:  0.11629950236238414\n"
     ]
    }
   ],
   "source": [
    "y_pred = outputs.numpy().squeeze()\n",
    "\n",
    "show_metrics_sklearn(y_test, (y_pred >= 0.5).astype(np.int))"
   ]
  },
  {
   "cell_type": "markdown",
   "metadata": {},
   "source": [
    "### ROC-AUC"
   ]
  },
  {
   "cell_type": "code",
   "execution_count": 8,
   "metadata": {},
   "outputs": [
    {
     "data": {
      "text/plain": [
       "<matplotlib.axes._subplots.AxesSubplot at 0x7f7067acba90>"
      ]
     },
     "execution_count": 8,
     "metadata": {},
     "output_type": "execute_result"
    },
    {
     "data": {
      "image/png": "[encoded data removed]",
      "text/plain": [
       "<Figure size 432x288 with 1 Axes>"
      ]
     },
     "metadata": {
      "needs_background": "light"
     },
     "output_type": "display_data"
    }
   ],
   "source": [
    "y_pred_ = np.zeros((y_pred.shape[0], 2))\n",
    "for i in range(len(y_pred)):\n",
    "    y_pred_[i, 0] = 1-y_pred[i]\n",
    "    y_pred_[i, 1] = y_pred[i]\n",
    "\n",
    "skplt.metrics.plot_roc(y_test, y_pred_)"
   ]
  },
  {
   "cell_type": "code",
   "execution_count": 9,
   "metadata": {},
   "outputs": [
    {
     "data": {
      "image/png": "[encoded data removed]",
      "text/plain": [
       "<Figure size 500x500 with 1 Axes>"
      ]
     },
     "metadata": {
      "needs_background": "light"
     },
     "output_type": "display_data"
    },
    {
     "data": {
      "text/plain": [
       "0.9886501549971014"
      ]
     },
     "execution_count": 9,
     "metadata": {},
     "output_type": "execute_result"
    }
   ],
   "source": [
    "roc_auc_score(y_test, y_pred)"
   ]
  },
  {
   "cell_type": "code",
   "execution_count": null,
   "metadata": {},
   "outputs": [],
   "source": []
  }
 ],
 "metadata": {
  "kernelspec": {
   "display_name": "Python 3",
   "language": "python",
   "name": "python3"
  },
  "language_info": {
   "codemirror_mode": {
    "name": "ipython",
    "version": 3
   },
   "file_extension": ".py",
   "mimetype": "text/x-python",
   "name": "python",
   "nbconvert_exporter": "python",
   "pygments_lexer": "ipython3",
   "version": "3.7.3"
  }
 },
 "nbformat": 4,
 "nbformat_minor": 2
}
